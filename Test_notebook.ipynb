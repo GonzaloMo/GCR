{
 "cells": [
  {
   "cell_type": "code",
   "execution_count": 1,
   "metadata": {},
   "outputs": [],
   "source": [
    "import Env_utils as env_util\n",
    "from Render import Render\n",
    "import numpy as np\n",
    "import random\n",
    "import Problem_Generator\n",
    "from ipycanvas import Canvas, hold_canvas\n",
    "import math\n",
    "from time import sleep\n",
    "\n",
    "PG = Problem_Generator.GCR_PG()\n",
    "Rend = Render()"
   ]
  },
  {
   "cell_type": "markdown",
   "metadata": {},
   "source": [
    "# Tests\n",
    "## Room Generator \n",
    "In this test we can generate as many rooms as we want with random layout"
   ]
  },
  {
   "cell_type": "code",
   "execution_count": 2,
   "metadata": {
    "scrolled": false
   },
   "outputs": [
    {
     "data": {
      "application/vnd.jupyter.widget-view+json": {
       "model_id": "ab506d8458264eac9604716fd4e56eea",
       "version_major": 2,
       "version_minor": 0
      },
      "text/plain": [
       "Canvas(height=600, width=600)"
      ]
     },
     "metadata": {},
     "output_type": "display_data"
    }
   ],
   "source": [
    "number_of_rooms = 4\n",
    "\n",
    "for i in range(0,number_of_rooms):\n",
    "    if i >= 4:\n",
    "        PG.generate_1_room('Room_'+str(i),random.randint(0, 3))\n",
    "    else:\n",
    "        PG.generate_1_room('Room_'+str(i),i)\n",
    "# Render\n",
    "Rend.update_rooms(PG.Rooms)\n",
    "canvas = Rend.env_render()\n",
    "canvas"
   ]
  },
  {
   "cell_type": "markdown",
   "metadata": {},
   "source": [
    "## Connection Generator\n",
    "The connection can only be establish in 8 spots marken with a star in this picture"
   ]
  },
  {
   "cell_type": "code",
   "execution_count": 3,
   "metadata": {
    "scrolled": false
   },
   "outputs": [
    {
     "data": {
      "application/vnd.jupyter.widget-view+json": {
       "model_id": "57037666ccac4944bb4973b54a0619b2",
       "version_major": 2,
       "version_minor": 0
      },
      "text/plain": [
       "Canvas(height=600, width=600)"
      ]
     },
     "metadata": {},
     "output_type": "display_data"
    }
   ],
   "source": [
    "Location = 'Random'\n",
    "Possible_Locations = PG.Rooms[0].Possible_Locations\n",
    "if Location == 'Random':\n",
    "    loc_1 = random.choice(Possible_Locations)\n",
    "else:\n",
    "    loc_1 = Location\n",
    "Bat_C = 0\n",
    "\n",
    "ind_1 = Possible_Locations.index(loc_1)\n",
    "ind_2 = int(7-ind_1)\n",
    "loc_2 = Possible_Locations[ind_2]\n",
    "PG.generate_1_connection(PG.Rooms[0].room_id, PG.Rooms[1].room_id, loc_1, loc_2, Bat_C)\n",
    "PG.generate_1_connection(PG.Rooms[0].room_id, PG.Rooms[2].room_id, loc_1, loc_2, Bat_C)\n",
    "PG.generate_1_connection(PG.Rooms[1].room_id, PG.Rooms[2].room_id, loc_1, loc_2, Bat_C)\n",
    "PG.generate_1_connection(PG.Rooms[2].room_id, PG.Rooms[3].room_id, loc_1, loc_2, Bat_C)\n",
    "PG.generate_1_connection(PG.Rooms[3].room_id, PG.Rooms[1].room_id, loc_1, loc_2, Bat_C)\n",
    "\n",
    "# Render\n",
    "Rend.update_rooms(PG.Rooms)\n",
    "canvas = Rend.env_render()\n",
    "canvas"
   ]
  },
  {
   "cell_type": "code",
   "execution_count": 4,
   "metadata": {},
   "outputs": [],
   "source": [
    "PG.generate_1_connection(PG.Rooms[0].room_id, PG.Rooms[1].room_id, 'S', 'N', 0)\n",
    "canvas = Rend.Single_connection(canvas, PG.Rooms[1], PG.Rooms[3], color='blue')"
   ]
  },
  {
   "cell_type": "markdown",
   "metadata": {},
   "source": [
    "## Create Robot Class         "
   ]
  },
  {
   "cell_type": "code",
   "execution_count": 5,
   "metadata": {},
   "outputs": [],
   "source": [
    "class Robot(object):\n",
    "    def __init__(self, initial_pos=[0,0], inital_room_id=0):\n",
    "        self.pos = np.asarray(initial_pos)\n",
    "        self.room_id = inital_room_id\n",
    "        \n",
    "    def move_to(self, x, y):\n",
    "        self.pos = np.array([x, y])\n",
    "        \n",
    "    def change_room(self, next_room):\n",
    "        self.room_id = next_room"
   ]
  },
  {
   "cell_type": "markdown",
   "metadata": {},
   "source": [
    "## Render Robot\n",
    "Render the robot in a random room and position"
   ]
  },
  {
   "cell_type": "code",
   "execution_count": 6,
   "metadata": {
    "scrolled": false
   },
   "outputs": [
    {
     "data": {
      "application/vnd.jupyter.widget-view+json": {
       "model_id": "57037666ccac4944bb4973b54a0619b2",
       "version_major": 2,
       "version_minor": 0
      },
      "text/plain": [
       "Canvas(height=600, width=600)"
      ]
     },
     "metadata": {},
     "output_type": "display_data"
    }
   ],
   "source": [
    "RBT = Robot()\n",
    "canvas = Rend.robot(canvas, RBT.pos[0], RBT.pos[1], RBT.room_id)\n",
    "canvas"
   ]
  },
  {
   "cell_type": "code",
   "execution_count": 7,
   "metadata": {},
   "outputs": [
    {
     "name": "stdout",
     "output_type": "stream",
     "text": [
      "[ 0.          1.36363636  2.72727273  4.09090909  5.45454545  6.81818182\n",
      "  8.18181818  9.54545455 10.90909091 12.27272727 13.63636364 15.\n",
      " 16.36363636 17.72727273 19.09090909 20.45454545 21.81818182 23.18181818\n",
      " 24.54545455 25.90909091 27.27272727 28.63636364 30.         31.36363636\n",
      " 32.72727273 34.09090909 35.45454545 36.81818182 38.18181818 39.54545455\n",
      " 40.90909091 42.27272727 43.63636364 45.         46.36363636 47.72727273\n",
      " 49.09090909 50.45454545 51.81818182 53.18181818 54.54545455 55.90909091\n",
      " 57.27272727 58.63636364 60.        ]\n",
      "[0.         0.07931034 0.15862069 0.23793103 0.31724138 0.39655172\n",
      " 0.47586207 0.55517241 0.63448276 0.7137931  0.79310345 0.87241379\n",
      " 0.95172414 1.03103448 1.11034483 1.18965517 1.26896552 1.34827586\n",
      " 1.42758621 1.50689655 1.5862069  1.66551724 1.74482759 1.82413793\n",
      " 1.90344828 1.98275862 2.06206897 2.14137931 2.22068966 2.3\n",
      " 2.3        2.3        2.3        2.3        2.3        2.3\n",
      " 2.3        2.3        2.3        2.3        2.3        2.3\n",
      " 2.3        2.3        2.3        2.3        2.3        2.3\n",
      " 2.3        2.3        2.3        2.3        2.3        2.3\n",
      " 2.3        2.3        2.3        2.3        2.3        2.3       ]\n",
      "[0.         0.15862069 0.31724138 0.47586207 0.63448276 0.79310345\n",
      " 0.95172414 1.11034483 1.26896552 1.42758621 1.5862069  1.74482759\n",
      " 1.90344828 2.06206897 2.22068966 2.37931034 2.53793103 2.69655172\n",
      " 2.85517241 3.0137931  3.17241379 3.33103448 3.48965517 3.64827586\n",
      " 3.80689655 3.96551724 4.12413793 4.28275862 4.44137931 4.6\n",
      " 0.         0.16428571 0.32857143 0.49285714 0.65714286 0.82142857\n",
      " 0.98571429 1.15       1.31428571 1.47857143 1.64285714 1.80714286\n",
      " 1.97142857 2.13571429 2.3       ]\n",
      "[0 0 0 0 0 0 0 0 0 0 0 0 0 0 0 0 0 0 0 0 0 0 0 0 0 0 0 0 0 0 0 0 0 0 0 0 0\n",
      " 0 0 0 0 0 0 0 0]\n"
     ]
    }
   ],
   "source": [
    "x1 = np.linspace(0, 2.5-0.2, num=30)\n",
    "y1 = np.linspace(0, 5-0.4, num=30)\n",
    "x2 = np.ones(30)*(2.5-0.2)\n",
    "y2 = np.linspace(0, 2.5-0.2, num=15)\n",
    "room1 = np.zeros(30, dtype=int)\n",
    "room2 = np.zeros(15, dtype=int)\n",
    "\n",
    "room = np.concatenate((room1, room2), axis=None)\n",
    "x= np.concatenate((x1, x2), axis=None)\n",
    "y= np.concatenate((y1, y2), axis=None)\n",
    "\n",
    "t = np.linspace(0, 60, num=45)\n",
    "print(t)\n",
    "print(x)\n",
    "print(y)\n",
    "print(room)"
   ]
  },
  {
   "cell_type": "code",
   "execution_count": 10,
   "metadata": {},
   "outputs": [],
   "source": [
    "canvas = Rend.full_render(x[0], y[0], room[0])\n",
    "for i in range(1,len(t)):\n",
    "    with hold_canvas(canvas):\n",
    "        # Clear the old animation step\n",
    "        canvas.clear()\n",
    "        canvas = Rend.full_render(x[i], y[i], room[i], canvas=canvas)\n",
    "    # Animation frequency ~50Hz = 1./50. seconds\n",
    "    canvas\n",
    "    sleep(0.02)\n",
    "    "
   ]
  },
  {
   "cell_type": "code",
   "execution_count": null,
   "metadata": {},
   "outputs": [],
   "source": []
  }
 ],
 "metadata": {
  "kernelspec": {
   "display_name": "Python 3",
   "language": "python",
   "name": "python3"
  },
  "language_info": {
   "codemirror_mode": {
    "name": "ipython",
    "version": 3
   },
   "file_extension": ".py",
   "mimetype": "text/x-python",
   "name": "python",
   "nbconvert_exporter": "python",
   "pygments_lexer": "ipython3",
   "version": "3.7.9"
  }
 },
 "nbformat": 4,
 "nbformat_minor": 4
}
